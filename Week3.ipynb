{
  "nbformat": 4,
  "nbformat_minor": 0,
  "metadata": {
    "colab": {
      "name": "Week3",
      "provenance": [],
      "collapsed_sections": [],
      "authorship_tag": "ABX9TyN16GhOAY2gH/hHq1pnyUsi",
      "include_colab_link": true
    },
    "kernelspec": {
      "name": "python3",
      "display_name": "Python 3"
    },
    "language_info": {
      "name": "python"
    }
  },
  "cells": [
    {
      "cell_type": "markdown",
      "metadata": {
        "id": "view-in-github",
        "colab_type": "text"
      },
      "source": [
        "<a href=\"https://colab.research.google.com/github/VirenderTanwar/Datasets/blob/main/Week3.ipynb\" target=\"_parent\"><img src=\"https://colab.research.google.com/assets/colab-badge.svg\" alt=\"Open In Colab\"/></a>"
      ]
    },
    {
      "cell_type": "markdown",
      "source": [
        "Importing The Big Three packages(Pandas, Numpy, Matplotlib).\n",
        "For better view i have enabled the dataframe formater.\n",
        "I have changed the data table max column count to 11 beacuse data set is having 10 columns."
      ],
      "metadata": {
        "id": "13rhte1bICyZ"
      }
    },
    {
      "cell_type": "code",
      "execution_count": 20,
      "metadata": {
        "id": "0acrRHsEF3VQ"
      },
      "outputs": [],
      "source": [
        "import numpy as np\n",
        "import pandas as pd \n",
        "import matplotlib.pyplot as plt\n",
        "import seaborn as sns\n",
        "from google.colab.data_table import DataTable\n",
        "DataTable.max_columns = 15\n",
        "from google.colab import data_table\n",
        "data_table.enable_dataframe_formatter()"
      ]
    },
    {
      "cell_type": "markdown",
      "source": [
        "For week3 Assignmnet professor has given data set of Bollywood Movie Detail dataset. Indian Cinema also known as Bollywood has witnessed exponential growth in terms of volume of business, manpower employed, number of movies produced each year and also the global reach. I have downloaded the data set from kaggle and uploaded in Github. Now we need to import the data set as pandas dataframe with below line of code."
      ],
      "metadata": {
        "id": "K2o83RidJTGI"
      }
    },
    {
      "cell_type": "code",
      "source": [
        "movie = pd.read_csv(\"https://raw.githubusercontent.com/VirenderTanwar/Datasets/main/BollywoodMovieDetail.csv\")\n",
        "movie.head()"
      ],
      "metadata": {
        "colab": {
          "base_uri": "https://localhost:8080/",
          "height": 297
        },
        "id": "hBh9fyJBIzoM",
        "outputId": "cb3cf326-beb2-4b86-8107-3692b132da4e"
      },
      "execution_count": 29,
      "outputs": [
        {
          "output_type": "execute_result",
          "data": {
            "application/vnd.google.colaboratory.module+javascript": "\n      import \"https://ssl.gstatic.com/colaboratory/data_table/81f25a011006ed3d/data_table.js\";\n\n      window.createDataTable({\n        data: [[{\n            'v': 0,\n            'f': \"0\",\n        },\n\"tt0118578\",\n\"Albela\",\n{\n            'v': 2001,\n            'f': \"2001\",\n        },\n\"20 Apr 2001\",\n\"Romance\",\n\"Honey Irani (screenplay) | Honey Irani (story) | Javed Siddiqui (dialogue)\",\n\"Govinda | Aishwarya Rai Bachchan | Jackie Shroff | Namrata Shirodkar\",\n\"Deepak Sareen\",\n{\n            'v': 0.0,\n            'f': \"0.0\",\n        },\n{\n            'v': 2,\n            'f': \"2\",\n        }],\n [{\n            'v': 1,\n            'f': \"1\",\n        },\n\"tt0169102\",\n\"Lagaan: Once Upon a Time in India\",\n{\n            'v': 2001,\n            'f': \"2001\",\n        },\n\"08 May 2002\",\n\"Adventure | Drama | Musical\",\n\"Ashutosh Gowariker (story) | Ashutosh Gowariker (screenplay) | Kumar Dave (screenplay) | Sanjay Dayma (screenplay) | K.P. Saxena (dialogue)\",\n\"Aamir Khan | Gracy Singh | Rachel Shelley | Paul Blackthorne\",\n\"Ashutosh Gowariker\",\n{\n            'v': 0.0,\n            'f': \"0.0\",\n        },\n{\n            'v': 6,\n            'f': \"6\",\n        }],\n [{\n            'v': 2,\n            'f': \"2\",\n        },\n\"tt0187279\",\n\"Meri Biwi Ka Jawab Nahin\",\n{\n            'v': 2004,\n            'f': \"2004\",\n        },\n\"02 Jul 2004\",\n\"Action | Comedy\",\nNaN,\n\"Akshay Kumar | Sridevi | Gulshan Grover | Laxmikant Berde\",\n\"Pankaj Parashar | S.M. Iqbal\",\n{\n            'v': 0.0,\n            'f': \"0.0\",\n        },\n{\n            'v': 1,\n            'f': \"1\",\n        }],\n [{\n            'v': 3,\n            'f': \"3\",\n        },\n\"tt0222024\",\n\"Hum Tumhare Hain Sanam\",\n{\n            'v': 2002,\n            'f': \"2002\",\n        },\n\"24 May 2002\",\n\"Drama | Romance\",\n\"K.S. Adiyaman | Arun Kumar (assistant dialogue) | Ashok Mehta (assistant dialogue) | Reema Rakesh Nath (dialogue)\",\n\"Shah Rukh Khan | Madhuri Dixit | Salman Khan | Atul Agnihotri\",\n\"K.S. Adiyaman\",\n{\n            'v': 0.0,\n            'f': \"0.0\",\n        },\n{\n            'v': 4,\n            'f': \"4\",\n        }],\n [{\n            'v': 4,\n            'f': \"4\",\n        },\n\"tt0227194\",\n\"One 2 Ka 4\",\n{\n            'v': 2001,\n            'f': \"2001\",\n        },\n\"30 Mar 2001\",\n\"Action | Comedy | Drama\",\n\"Sanjay Chhel | Raaj Kumar Dahima (screenplay) | Manoj Lalwani (screenplay)\",\n\"Shah Rukh Khan | Juhi Chawla | Jackie Shroff | Nirmal Pandey\",\n\"Shashilal K. Nair\",\n{\n            'v': 0.0,\n            'f': \"0.0\",\n        },\n{\n            'v': 1,\n            'f': \"1\",\n        }]],\n        columns: [[\"number\", \"index\"], [\"string\", \"imdbId\"], [\"string\", \"title\"], [\"number\", \"releaseYear\"], [\"string\", \"releaseDate\"], [\"string\", \"genre\"], [\"string\", \"writers\"], [\"string\", \"actors\"], [\"string\", \"directors\"], [\"number\", \"sequel\"], [\"number\", \"hitFlop\"]],\n        columnOptions: [{\"width\": \"1px\", \"className\": \"index_column\"}],\n        rowsPerPage: 25,\n        helpUrl: \"https://colab.research.google.com/notebooks/data_table.ipynb\",\n        suppressOutputScrolling: true,\n        minimumWidth: undefined,\n      });\n    ",
            "text/html": [
              "\n",
              "  <div id=\"df-89d0a18b-1cb8-4764-9932-5ee932ce4e35\">\n",
              "    <div class=\"colab-df-container\">\n",
              "      <div>\n",
              "<style scoped>\n",
              "    .dataframe tbody tr th:only-of-type {\n",
              "        vertical-align: middle;\n",
              "    }\n",
              "\n",
              "    .dataframe tbody tr th {\n",
              "        vertical-align: top;\n",
              "    }\n",
              "\n",
              "    .dataframe thead th {\n",
              "        text-align: right;\n",
              "    }\n",
              "</style>\n",
              "<table border=\"1\" class=\"dataframe\">\n",
              "  <thead>\n",
              "    <tr style=\"text-align: right;\">\n",
              "      <th></th>\n",
              "      <th>imdbId</th>\n",
              "      <th>title</th>\n",
              "      <th>releaseYear</th>\n",
              "      <th>releaseDate</th>\n",
              "      <th>genre</th>\n",
              "      <th>writers</th>\n",
              "      <th>actors</th>\n",
              "      <th>directors</th>\n",
              "      <th>sequel</th>\n",
              "      <th>hitFlop</th>\n",
              "    </tr>\n",
              "  </thead>\n",
              "  <tbody>\n",
              "    <tr>\n",
              "      <th>0</th>\n",
              "      <td>tt0118578</td>\n",
              "      <td>Albela</td>\n",
              "      <td>2001</td>\n",
              "      <td>20 Apr 2001</td>\n",
              "      <td>Romance</td>\n",
              "      <td>Honey Irani (screenplay) | Honey Irani (story)...</td>\n",
              "      <td>Govinda | Aishwarya Rai Bachchan | Jackie Shro...</td>\n",
              "      <td>Deepak Sareen</td>\n",
              "      <td>0.0</td>\n",
              "      <td>2</td>\n",
              "    </tr>\n",
              "    <tr>\n",
              "      <th>1</th>\n",
              "      <td>tt0169102</td>\n",
              "      <td>Lagaan: Once Upon a Time in India</td>\n",
              "      <td>2001</td>\n",
              "      <td>08 May 2002</td>\n",
              "      <td>Adventure | Drama | Musical</td>\n",
              "      <td>Ashutosh Gowariker (story) | Ashutosh Gowarike...</td>\n",
              "      <td>Aamir Khan | Gracy Singh | Rachel Shelley | Pa...</td>\n",
              "      <td>Ashutosh Gowariker</td>\n",
              "      <td>0.0</td>\n",
              "      <td>6</td>\n",
              "    </tr>\n",
              "    <tr>\n",
              "      <th>2</th>\n",
              "      <td>tt0187279</td>\n",
              "      <td>Meri Biwi Ka Jawab Nahin</td>\n",
              "      <td>2004</td>\n",
              "      <td>02 Jul 2004</td>\n",
              "      <td>Action | Comedy</td>\n",
              "      <td>NaN</td>\n",
              "      <td>Akshay Kumar | Sridevi | Gulshan Grover | Laxm...</td>\n",
              "      <td>Pankaj Parashar | S.M. Iqbal</td>\n",
              "      <td>0.0</td>\n",
              "      <td>1</td>\n",
              "    </tr>\n",
              "    <tr>\n",
              "      <th>3</th>\n",
              "      <td>tt0222024</td>\n",
              "      <td>Hum Tumhare Hain Sanam</td>\n",
              "      <td>2002</td>\n",
              "      <td>24 May 2002</td>\n",
              "      <td>Drama | Romance</td>\n",
              "      <td>K.S. Adiyaman | Arun Kumar (assistant dialogue...</td>\n",
              "      <td>Shah Rukh Khan | Madhuri Dixit | Salman Khan |...</td>\n",
              "      <td>K.S. Adiyaman</td>\n",
              "      <td>0.0</td>\n",
              "      <td>4</td>\n",
              "    </tr>\n",
              "    <tr>\n",
              "      <th>4</th>\n",
              "      <td>tt0227194</td>\n",
              "      <td>One 2 Ka 4</td>\n",
              "      <td>2001</td>\n",
              "      <td>30 Mar 2001</td>\n",
              "      <td>Action | Comedy | Drama</td>\n",
              "      <td>Sanjay Chhel | Raaj Kumar Dahima (screenplay) ...</td>\n",
              "      <td>Shah Rukh Khan | Juhi Chawla | Jackie Shroff |...</td>\n",
              "      <td>Shashilal K. Nair</td>\n",
              "      <td>0.0</td>\n",
              "      <td>1</td>\n",
              "    </tr>\n",
              "  </tbody>\n",
              "</table>\n",
              "</div>\n",
              "      <button class=\"colab-df-convert\" onclick=\"convertToInteractive('df-89d0a18b-1cb8-4764-9932-5ee932ce4e35')\"\n",
              "              title=\"Convert this dataframe to an interactive table.\"\n",
              "              style=\"display:none;\">\n",
              "        \n",
              "  <svg xmlns=\"http://www.w3.org/2000/svg\" height=\"24px\"viewBox=\"0 0 24 24\"\n",
              "       width=\"24px\">\n",
              "    <path d=\"M0 0h24v24H0V0z\" fill=\"none\"/>\n",
              "    <path d=\"M18.56 5.44l.94 2.06.94-2.06 2.06-.94-2.06-.94-.94-2.06-.94 2.06-2.06.94zm-11 1L8.5 8.5l.94-2.06 2.06-.94-2.06-.94L8.5 2.5l-.94 2.06-2.06.94zm10 10l.94 2.06.94-2.06 2.06-.94-2.06-.94-.94-2.06-.94 2.06-2.06.94z\"/><path d=\"M17.41 7.96l-1.37-1.37c-.4-.4-.92-.59-1.43-.59-.52 0-1.04.2-1.43.59L10.3 9.45l-7.72 7.72c-.78.78-.78 2.05 0 2.83L4 21.41c.39.39.9.59 1.41.59.51 0 1.02-.2 1.41-.59l7.78-7.78 2.81-2.81c.8-.78.8-2.07 0-2.86zM5.41 20L4 18.59l7.72-7.72 1.47 1.35L5.41 20z\"/>\n",
              "  </svg>\n",
              "      </button>\n",
              "      \n",
              "  <style>\n",
              "    .colab-df-container {\n",
              "      display:flex;\n",
              "      flex-wrap:wrap;\n",
              "      gap: 12px;\n",
              "    }\n",
              "\n",
              "    .colab-df-convert {\n",
              "      background-color: #E8F0FE;\n",
              "      border: none;\n",
              "      border-radius: 50%;\n",
              "      cursor: pointer;\n",
              "      display: none;\n",
              "      fill: #1967D2;\n",
              "      height: 32px;\n",
              "      padding: 0 0 0 0;\n",
              "      width: 32px;\n",
              "    }\n",
              "\n",
              "    .colab-df-convert:hover {\n",
              "      background-color: #E2EBFA;\n",
              "      box-shadow: 0px 1px 2px rgba(60, 64, 67, 0.3), 0px 1px 3px 1px rgba(60, 64, 67, 0.15);\n",
              "      fill: #174EA6;\n",
              "    }\n",
              "\n",
              "    [theme=dark] .colab-df-convert {\n",
              "      background-color: #3B4455;\n",
              "      fill: #D2E3FC;\n",
              "    }\n",
              "\n",
              "    [theme=dark] .colab-df-convert:hover {\n",
              "      background-color: #434B5C;\n",
              "      box-shadow: 0px 1px 3px 1px rgba(0, 0, 0, 0.15);\n",
              "      filter: drop-shadow(0px 1px 2px rgba(0, 0, 0, 0.3));\n",
              "      fill: #FFFFFF;\n",
              "    }\n",
              "  </style>\n",
              "\n",
              "      <script>\n",
              "        const buttonEl =\n",
              "          document.querySelector('#df-89d0a18b-1cb8-4764-9932-5ee932ce4e35 button.colab-df-convert');\n",
              "        buttonEl.style.display =\n",
              "          google.colab.kernel.accessAllowed ? 'block' : 'none';\n",
              "\n",
              "        async function convertToInteractive(key) {\n",
              "          const element = document.querySelector('#df-89d0a18b-1cb8-4764-9932-5ee932ce4e35');\n",
              "          const dataTable =\n",
              "            await google.colab.kernel.invokeFunction('convertToInteractive',\n",
              "                                                     [key], {});\n",
              "          if (!dataTable) return;\n",
              "\n",
              "          const docLinkHtml = 'Like what you see? Visit the ' +\n",
              "            '<a target=\"_blank\" href=https://colab.research.google.com/notebooks/data_table.ipynb>data table notebook</a>'\n",
              "            + ' to learn more about interactive tables.';\n",
              "          element.innerHTML = '';\n",
              "          dataTable['output_type'] = 'display_data';\n",
              "          await google.colab.output.renderOutput(dataTable, element);\n",
              "          const docLink = document.createElement('div');\n",
              "          docLink.innerHTML = docLinkHtml;\n",
              "          element.appendChild(docLink);\n",
              "        }\n",
              "      </script>\n",
              "    </div>\n",
              "  </div>\n",
              "  "
            ],
            "text/plain": [
              "      imdbId                              title  ...  sequel hitFlop\n",
              "0  tt0118578                             Albela  ...     0.0       2\n",
              "1  tt0169102  Lagaan: Once Upon a Time in India  ...     0.0       6\n",
              "2  tt0187279           Meri Biwi Ka Jawab Nahin  ...     0.0       1\n",
              "3  tt0222024             Hum Tumhare Hain Sanam  ...     0.0       4\n",
              "4  tt0227194                         One 2 Ka 4  ...     0.0       1\n",
              "\n",
              "[5 rows x 10 columns]"
            ]
          },
          "metadata": {},
          "execution_count": 29
        }
      ]
    },
    {
      "cell_type": "markdown",
      "source": [
        "# Data Substitution"
      ],
      "metadata": {
        "id": "YdCAF4VmiXEB"
      }
    },
    {
      "cell_type": "markdown",
      "source": [
        "\n",
        "Here we can see that ReleaseDate, Genre, Writers, Actors, Directors and Sequel columns has missing values"
      ],
      "metadata": {
        "id": "n1uYUMk6PPZo"
      }
    },
    {
      "cell_type": "code",
      "source": [
        "movie.isnull().sum()"
      ],
      "metadata": {
        "colab": {
          "base_uri": "https://localhost:8080/"
        },
        "id": "Umk4OfWf5P6_",
        "outputId": "3d8e15b0-1a41-470b-9c6c-914faf13e66e"
      },
      "execution_count": 30,
      "outputs": [
        {
          "output_type": "execute_result",
          "data": {
            "text/plain": [
              "imdbId           0\n",
              "title            0\n",
              "releaseYear      0\n",
              "releaseDate     53\n",
              "genre            2\n",
              "writers        119\n",
              "actors           3\n",
              "directors        4\n",
              "sequel           3\n",
              "hitFlop          0\n",
              "dtype: int64"
            ]
          },
          "metadata": {},
          "execution_count": 30
        }
      ]
    },
    {
      "cell_type": "markdown",
      "source": [
        "Here I am replacing the missing for these columns. We can see that there are no null values"
      ],
      "metadata": {
        "id": "z5VYbj_JPfRZ"
      }
    },
    {
      "cell_type": "code",
      "source": [
        "movie['releaseDate'].fillna(movie['releaseDate'].mode()[0],inplace=True)\n",
        "movie['genre'].fillna('Unknown',inplace=True)\n",
        "movie['writers'].fillna('Unknown',inplace=True)\n",
        "movie['actors'].fillna('Unknown',inplace=True)\n",
        "movie['directors'].fillna('Unknown',inplace=True)\n",
        "movie['sequel'].fillna(0,inplace=True)\n",
        "\n",
        "movie.isnull().sum()"
      ],
      "metadata": {
        "colab": {
          "base_uri": "https://localhost:8080/"
        },
        "id": "FpVx2rXM-QxY",
        "outputId": "4e2d0e01-7dd9-4e9b-8b45-67707526b69a"
      },
      "execution_count": 31,
      "outputs": [
        {
          "output_type": "execute_result",
          "data": {
            "text/plain": [
              "imdbId         0\n",
              "title          0\n",
              "releaseYear    0\n",
              "releaseDate    0\n",
              "genre          0\n",
              "writers        0\n",
              "actors         0\n",
              "directors      0\n",
              "sequel         0\n",
              "hitFlop        0\n",
              "dtype: int64"
            ]
          },
          "metadata": {},
          "execution_count": 31
        }
      ]
    },
    {
      "cell_type": "code",
      "source": [
        "movie.nunique()"
      ],
      "metadata": {
        "colab": {
          "base_uri": "https://localhost:8080/"
        },
        "id": "J8lxCxfmW9kG",
        "outputId": "0f496dcd-38ee-49db-c197-012c30d0e873"
      },
      "execution_count": 32,
      "outputs": [
        {
          "output_type": "execute_result",
          "data": {
            "text/plain": [
              "imdbId         1284\n",
              "title          1284\n",
              "releaseYear      14\n",
              "releaseDate     710\n",
              "genre           216\n",
              "writers        1110\n",
              "actors         1282\n",
              "directors       732\n",
              "sequel            3\n",
              "hitFlop           9\n",
              "dtype: int64"
            ]
          },
          "metadata": {},
          "execution_count": 32
        }
      ]
    },
    {
      "cell_type": "code",
      "source": [
        "movie['writers_len']=movie['writers'].apply(lambda x:len(x.split(\"|\")))\n",
        "movie.writers_len.value_counts()"
      ],
      "metadata": {
        "colab": {
          "base_uri": "https://localhost:8080/"
        },
        "id": "Cam0YkbSioF7",
        "outputId": "0328581a-0513-409a-843c-f8239fb3a075"
      },
      "execution_count": 33,
      "outputs": [
        {
          "output_type": "execute_result",
          "data": {
            "text/plain": [
              "1     410\n",
              "2     280\n",
              "3     248\n",
              "4     136\n",
              "5     114\n",
              "6      52\n",
              "7      21\n",
              "8      10\n",
              "9       5\n",
              "10      4\n",
              "11      3\n",
              "15      1\n",
              "Name: writers_len, dtype: int64"
            ]
          },
          "metadata": {},
          "execution_count": 33
        }
      ]
    },
    {
      "cell_type": "markdown",
      "source": [
        "Here we have substituted the null values for ReleaseDate, Genre, Writers, Actors, Directors and Sequel.\n",
        "Have substituted the total number of writers into actual numbers"
      ],
      "metadata": {
        "id": "BWE3wYirir0T"
      }
    },
    {
      "cell_type": "markdown",
      "source": [
        "# Data Transformation"
      ],
      "metadata": {
        "id": "iolPEH-IWw7z"
      }
    },
    {
      "cell_type": "code",
      "source": [
        "movie['genre_len']=movie['genre'].apply(lambda x:len(x.split(\"|\")))\n",
        "movie.genre_len.value_counts()"
      ],
      "metadata": {
        "colab": {
          "base_uri": "https://localhost:8080/"
        },
        "id": "egux2MsV5QIM",
        "outputId": "7185fcfc-0f6e-4d2a-a264-e75abe1fb2f8"
      },
      "execution_count": 34,
      "outputs": [
        {
          "output_type": "execute_result",
          "data": {
            "text/plain": [
              "3    596\n",
              "2    350\n",
              "1    338\n",
              "Name: genre_len, dtype: int64"
            ]
          },
          "metadata": {},
          "execution_count": 34
        }
      ]
    },
    {
      "cell_type": "code",
      "source": [
        "movie['first_lead_actor'] = movie['actors'].apply(lambda x:x.split(\"|\")[0])\n",
        "movie['second_lead_actor'] = movie['actors'].apply(lambda x:x.split(\"|\")[1] if len(x.split(\"|\"))>1 else x.split(\"|\")[0])\n",
        "movie['main_director'] = movie['directors'].apply(lambda x:x.split(\"|\")[0])"
      ],
      "metadata": {
        "id": "V8NlTAcnXZZA"
      },
      "execution_count": 36,
      "outputs": []
    },
    {
      "cell_type": "code",
      "source": [
        "movie[movie['hitFlop']==9].plot(x='first_lead_actor',y=['hitFlop'],kind='bar',figsize=(4,4))\n",
        "movie[movie['hitFlop']==9].plot(x='main_director',y=['hitFlop'],kind='bar',figsize=(4,4))\n",
        "movie[movie['hitFlop']==9].plot(x='first_lead_actor',y=['releaseYear'],kind='line',figsize=(4,4))"
      ],
      "metadata": {
        "colab": {
          "base_uri": "https://localhost:8080/",
          "height": 974
        },
        "id": "Ui8kXm-Bo7gc",
        "outputId": "e1ab5770-b092-472e-faf1-0fbc49321d3e"
      },
      "execution_count": 63,
      "outputs": [
        {
          "output_type": "execute_result",
          "data": {
            "text/plain": [
              "<matplotlib.axes._subplots.AxesSubplot at 0x7f145aede750>"
            ]
          },
          "metadata": {},
          "execution_count": 63
        },
        {
          "output_type": "display_data",
          "data": {
            "image/png": "[encoded data removed]",
            "text/plain": [
              "<Figure size 288x288 with 1 Axes>"
            ]
          },
          "metadata": {
            "needs_background": "light"
          }
        },
        {
          "output_type": "display_data",
          "data": {
            "image/png": "[encoded data removed]",
            "text/plain": [
              "<Figure size 288x288 with 1 Axes>"
            ]
          },
          "metadata": {
            "needs_background": "light"
          }
        },
        {
          "output_type": "display_data",
          "data": {
            "image/png": "[encoded data removed]",
            "text/plain": [
              "<Figure size 288x288 with 1 Axes>"
            ]
          },
          "metadata": {
            "needs_background": "light"
          }
        }
      ]
    },
    {
      "cell_type": "code",
      "source": [
        "pd.crosstab(movie[movie['hitFlop']>6].hitFlop,movie[movie['hitFlop']>6].genre_len)"
      ],
      "metadata": {
        "colab": {
          "base_uri": "https://localhost:8080/",
          "height": 154
        },
        "id": "9gzJt4klrjF7",
        "outputId": "7b1e4cdd-a3eb-4b86-a332-b47f5a5bf38f"
      },
      "execution_count": 64,
      "outputs": [
        {
          "output_type": "execute_result",
          "data": {
            "application/vnd.google.colaboratory.module+javascript": "\n      import \"https://ssl.gstatic.com/colaboratory/data_table/81f25a011006ed3d/data_table.js\";\n\n      window.createDataTable({\n        data: [[{\n            'v': 7,\n            'f': \"7\",\n        },\n{\n            'v': 2,\n            'f': \"2\",\n        },\n{\n            'v': 7,\n            'f': \"7\",\n        },\n{\n            'v': 20,\n            'f': \"20\",\n        }],\n [{\n            'v': 8,\n            'f': \"8\",\n        },\n{\n            'v': 1,\n            'f': \"1\",\n        },\n{\n            'v': 5,\n            'f': \"5\",\n        },\n{\n            'v': 14,\n            'f': \"14\",\n        }],\n [{\n            'v': 9,\n            'f': \"9\",\n        },\n{\n            'v': 0,\n            'f': \"0\",\n        },\n{\n            'v': 1,\n            'f': \"1\",\n        },\n{\n            'v': 3,\n            'f': \"3\",\n        }]],\n        columns: [[\"number\", \"hitFlop\"], [\"number\", \"1\"], [\"number\", \"2\"], [\"number\", \"3\"]],\n        columnOptions: [{\"width\": \"1px\", \"className\": \"index_column\"}],\n        rowsPerPage: 25,\n        helpUrl: \"https://colab.research.google.com/notebooks/data_table.ipynb\",\n        suppressOutputScrolling: true,\n        minimumWidth: undefined,\n      });\n    ",
            "text/html": [
              "\n",
              "  <div id=\"df-7ffc711b-3782-4e4d-8405-025d221fac00\">\n",
              "    <div class=\"colab-df-container\">\n",
              "      <div>\n",
              "<style scoped>\n",
              "    .dataframe tbody tr th:only-of-type {\n",
              "        vertical-align: middle;\n",
              "    }\n",
              "\n",
              "    .dataframe tbody tr th {\n",
              "        vertical-align: top;\n",
              "    }\n",
              "\n",
              "    .dataframe thead th {\n",
              "        text-align: right;\n",
              "    }\n",
              "</style>\n",
              "<table border=\"1\" class=\"dataframe\">\n",
              "  <thead>\n",
              "    <tr style=\"text-align: right;\">\n",
              "      <th>genre_len</th>\n",
              "      <th>1</th>\n",
              "      <th>2</th>\n",
              "      <th>3</th>\n",
              "    </tr>\n",
              "    <tr>\n",
              "      <th>hitFlop</th>\n",
              "      <th></th>\n",
              "      <th></th>\n",
              "      <th></th>\n",
              "    </tr>\n",
              "  </thead>\n",
              "  <tbody>\n",
              "    <tr>\n",
              "      <th>7</th>\n",
              "      <td>2</td>\n",
              "      <td>7</td>\n",
              "      <td>20</td>\n",
              "    </tr>\n",
              "    <tr>\n",
              "      <th>8</th>\n",
              "      <td>1</td>\n",
              "      <td>5</td>\n",
              "      <td>14</td>\n",
              "    </tr>\n",
              "    <tr>\n",
              "      <th>9</th>\n",
              "      <td>0</td>\n",
              "      <td>1</td>\n",
              "      <td>3</td>\n",
              "    </tr>\n",
              "  </tbody>\n",
              "</table>\n",
              "</div>\n",
              "      <button class=\"colab-df-convert\" onclick=\"convertToInteractive('df-7ffc711b-3782-4e4d-8405-025d221fac00')\"\n",
              "              title=\"Convert this dataframe to an interactive table.\"\n",
              "              style=\"display:none;\">\n",
              "        \n",
              "  <svg xmlns=\"http://www.w3.org/2000/svg\" height=\"24px\"viewBox=\"0 0 24 24\"\n",
              "       width=\"24px\">\n",
              "    <path d=\"M0 0h24v24H0V0z\" fill=\"none\"/>\n",
              "    <path d=\"M18.56 5.44l.94 2.06.94-2.06 2.06-.94-2.06-.94-.94-2.06-.94 2.06-2.06.94zm-11 1L8.5 8.5l.94-2.06 2.06-.94-2.06-.94L8.5 2.5l-.94 2.06-2.06.94zm10 10l.94 2.06.94-2.06 2.06-.94-2.06-.94-.94-2.06-.94 2.06-2.06.94z\"/><path d=\"M17.41 7.96l-1.37-1.37c-.4-.4-.92-.59-1.43-.59-.52 0-1.04.2-1.43.59L10.3 9.45l-7.72 7.72c-.78.78-.78 2.05 0 2.83L4 21.41c.39.39.9.59 1.41.59.51 0 1.02-.2 1.41-.59l7.78-7.78 2.81-2.81c.8-.78.8-2.07 0-2.86zM5.41 20L4 18.59l7.72-7.72 1.47 1.35L5.41 20z\"/>\n",
              "  </svg>\n",
              "      </button>\n",
              "      \n",
              "  <style>\n",
              "    .colab-df-container {\n",
              "      display:flex;\n",
              "      flex-wrap:wrap;\n",
              "      gap: 12px;\n",
              "    }\n",
              "\n",
              "    .colab-df-convert {\n",
              "      background-color: #E8F0FE;\n",
              "      border: none;\n",
              "      border-radius: 50%;\n",
              "      cursor: pointer;\n",
              "      display: none;\n",
              "      fill: #1967D2;\n",
              "      height: 32px;\n",
              "      padding: 0 0 0 0;\n",
              "      width: 32px;\n",
              "    }\n",
              "\n",
              "    .colab-df-convert:hover {\n",
              "      background-color: #E2EBFA;\n",
              "      box-shadow: 0px 1px 2px rgba(60, 64, 67, 0.3), 0px 1px 3px 1px rgba(60, 64, 67, 0.15);\n",
              "      fill: #174EA6;\n",
              "    }\n",
              "\n",
              "    [theme=dark] .colab-df-convert {\n",
              "      background-color: #3B4455;\n",
              "      fill: #D2E3FC;\n",
              "    }\n",
              "\n",
              "    [theme=dark] .colab-df-convert:hover {\n",
              "      background-color: #434B5C;\n",
              "      box-shadow: 0px 1px 3px 1px rgba(0, 0, 0, 0.15);\n",
              "      filter: drop-shadow(0px 1px 2px rgba(0, 0, 0, 0.3));\n",
              "      fill: #FFFFFF;\n",
              "    }\n",
              "  </style>\n",
              "\n",
              "      <script>\n",
              "        const buttonEl =\n",
              "          document.querySelector('#df-7ffc711b-3782-4e4d-8405-025d221fac00 button.colab-df-convert');\n",
              "        buttonEl.style.display =\n",
              "          google.colab.kernel.accessAllowed ? 'block' : 'none';\n",
              "\n",
              "        async function convertToInteractive(key) {\n",
              "          const element = document.querySelector('#df-7ffc711b-3782-4e4d-8405-025d221fac00');\n",
              "          const dataTable =\n",
              "            await google.colab.kernel.invokeFunction('convertToInteractive',\n",
              "                                                     [key], {});\n",
              "          if (!dataTable) return;\n",
              "\n",
              "          const docLinkHtml = 'Like what you see? Visit the ' +\n",
              "            '<a target=\"_blank\" href=https://colab.research.google.com/notebooks/data_table.ipynb>data table notebook</a>'\n",
              "            + ' to learn more about interactive tables.';\n",
              "          element.innerHTML = '';\n",
              "          dataTable['output_type'] = 'display_data';\n",
              "          await google.colab.output.renderOutput(dataTable, element);\n",
              "          const docLink = document.createElement('div');\n",
              "          docLink.innerHTML = docLinkHtml;\n",
              "          element.appendChild(docLink);\n",
              "        }\n",
              "      </script>\n",
              "    </div>\n",
              "  </div>\n",
              "  "
            ],
            "text/plain": [
              "genre_len  1  2   3\n",
              "hitFlop            \n",
              "7          2  7  20\n",
              "8          1  5  14\n",
              "9          0  1   3"
            ]
          },
          "metadata": {},
          "execution_count": 64
        }
      ]
    },
    {
      "cell_type": "code",
      "source": [
        "sns.countplot(x='main_director',hue='first_lead_actor',data=movie[movie['hitFlop']>8])\n",
        "print(movie[movie['hitFlop']>7].main_director.value_counts())"
      ],
      "metadata": {
        "colab": {
          "base_uri": "https://localhost:8080/",
          "height": 644
        },
        "id": "Qrdq_5Djtvyh",
        "outputId": "6f070681-18b2-46b7-b986-b382e96a6f3d"
      },
      "execution_count": 80,
      "outputs": [
        {
          "output_type": "stream",
          "name": "stdout",
          "text": [
            "Rajkumar Hirani          3\n",
            "Rakesh Roshan            2\n",
            "Rohit Shetty             2\n",
            "Karan Johar              1\n",
            "Siddique                 1\n",
            "Mohit Suri               1\n",
            "Ayan Mukherjee           1\n",
            "Arbaaz Khan              1\n",
            "Prabhudheva              1\n",
            "Kabir Khan               1\n",
            "Vijay Krishna Acharya    1\n",
            "Abhinav Kashyap          1\n",
            "Anees Bazmee             1\n",
            "Anil Sharma              1\n",
            "Aditya Chopra            1\n",
            "A.R. Murugadoss          1\n",
            "Farah Khan               1\n",
            "Sooraj R. Barjatya       1\n",
            "Sanjay Gadhvi            1\n",
            "Sajid Nadiadwala         1\n",
            "Name: main_director, dtype: int64\n"
          ]
        },
        {
          "output_type": "display_data",
          "data": {
            "image/png": "[encoded data removed]",
            "text/plain": [
              "<Figure size 432x288 with 1 Axes>"
            ]
          },
          "metadata": {
            "needs_background": "light"
          }
        }
      ]
    },
    {
      "cell_type": "code",
      "source": [
        ""
      ],
      "metadata": {
        "colab": {
          "base_uri": "https://localhost:8080/"
        },
        "id": "_N5Pi6CmvBeO",
        "outputId": "9ae4a61e-77ed-4c02-cdab-489f172a53b1"
      },
      "execution_count": 77,
      "outputs": [
        {
          "output_type": "stream",
          "name": "stdout",
          "text": [
            "Rajkumar Hirani          3\n",
            "Rakesh Roshan            2\n",
            "Rohit Shetty             2\n",
            "Karan Johar              1\n",
            "Siddique                 1\n",
            "Mohit Suri               1\n",
            "Ayan Mukherjee           1\n",
            "Arbaaz Khan              1\n",
            "Prabhudheva              1\n",
            "Kabir Khan               1\n",
            "Vijay Krishna Acharya    1\n",
            "Abhinav Kashyap          1\n",
            "Anees Bazmee             1\n",
            "Anil Sharma              1\n",
            "Aditya Chopra            1\n",
            "A.R. Murugadoss          1\n",
            "Farah Khan               1\n",
            "Sooraj R. Barjatya       1\n",
            "Sanjay Gadhvi            1\n",
            "Sajid Nadiadwala         1\n",
            "Name: main_director, dtype: int64\n"
          ]
        }
      ]
    },
    {
      "cell_type": "code",
      "source": [
        "movie['first_lead_actor'] = movie['first_lead_actor'].astype('category')\n",
        "movie['second_lead_actor'] = movie['second_lead_actor'].astype('category')\n",
        "movie['first_lead_actor'] = movie['first_lead_actor'].cat.codes\n",
        "movie['second_lead_actor'] = movie['second_lead_actor'].cat.codes\n",
        "movie['main_director'] = movie['main_director'].astype('category')\n",
        "movie['main_director'] = movie['main_director'].cat.codes\n",
        "movie.loc[:,['genre_len','first_lead_actor','second_lead_actor','main_director','hitFlop']].head()"
      ],
      "metadata": {
        "colab": {
          "base_uri": "https://localhost:8080/",
          "height": 198
        },
        "id": "FmXjFgOMXZK2",
        "outputId": "88b30da8-7f3f-422f-ba23-3b3e698d2719"
      },
      "execution_count": 28,
      "outputs": [
        {
          "output_type": "execute_result",
          "data": {
            "application/vnd.google.colaboratory.module+javascript": "\n      import \"https://ssl.gstatic.com/colaboratory/data_table/81f25a011006ed3d/data_table.js\";\n\n      window.createDataTable({\n        data: [[{\n            'v': 0,\n            'f': \"0\",\n        },\n{\n            'v': 1,\n            'f': \"1\",\n        },\n{\n            'v': 151,\n            'f': \"151\",\n        },\n{\n            'v': 25,\n            'f': \"25\",\n        },\n{\n            'v': 158,\n            'f': \"158\",\n        },\n{\n            'v': 2,\n            'f': \"2\",\n        }],\n [{\n            'v': 1,\n            'f': \"1\",\n        },\n{\n            'v': 3,\n            'f': \"3\",\n        },\n{\n            'v': 2,\n            'f': \"2\",\n        },\n{\n            'v': 174,\n            'f': \"174\",\n        },\n{\n            'v': 115,\n            'f': \"115\",\n        },\n{\n            'v': 6,\n            'f': \"6\",\n        }],\n [{\n            'v': 2,\n            'f': \"2\",\n        },\n{\n            'v': 2,\n            'f': \"2\",\n        },\n{\n            'v': 27,\n            'f': \"27\",\n        },\n{\n            'v': 570,\n            'f': \"570\",\n        },\n{\n            'v': 390,\n            'f': \"390\",\n        },\n{\n            'v': 1,\n            'f': \"1\",\n        }],\n [{\n            'v': 3,\n            'f': \"3\",\n        },\n{\n            'v': 2,\n            'f': \"2\",\n        },\n{\n            'v': 420,\n            'f': \"420\",\n        },\n{\n            'v': 271,\n            'f': \"271\",\n        },\n{\n            'v': 262,\n            'f': \"262\",\n        },\n{\n            'v': 4,\n            'f': \"4\",\n        }],\n [{\n            'v': 4,\n            'f': \"4\",\n        },\n{\n            'v': 3,\n            'f': \"3\",\n        },\n{\n            'v': 420,\n            'f': \"420\",\n        },\n{\n            'v': 225,\n            'f': \"225\",\n        },\n{\n            'v': 593,\n            'f': \"593\",\n        },\n{\n            'v': 1,\n            'f': \"1\",\n        }]],\n        columns: [[\"number\", \"index\"], [\"number\", \"genre_len\"], [\"number\", \"first_lead_actor\"], [\"number\", \"second_lead_actor\"], [\"number\", \"main_director\"], [\"number\", \"hitFlop\"]],\n        columnOptions: [{\"width\": \"1px\", \"className\": \"index_column\"}],\n        rowsPerPage: 25,\n        helpUrl: \"https://colab.research.google.com/notebooks/data_table.ipynb\",\n        suppressOutputScrolling: true,\n        minimumWidth: undefined,\n      });\n    ",
            "text/html": [
              "\n",
              "  <div id=\"df-dc4bc0c3-669b-4d0a-a818-3fc621b632c0\">\n",
              "    <div class=\"colab-df-container\">\n",
              "      <div>\n",
              "<style scoped>\n",
              "    .dataframe tbody tr th:only-of-type {\n",
              "        vertical-align: middle;\n",
              "    }\n",
              "\n",
              "    .dataframe tbody tr th {\n",
              "        vertical-align: top;\n",
              "    }\n",
              "\n",
              "    .dataframe thead th {\n",
              "        text-align: right;\n",
              "    }\n",
              "</style>\n",
              "<table border=\"1\" class=\"dataframe\">\n",
              "  <thead>\n",
              "    <tr style=\"text-align: right;\">\n",
              "      <th></th>\n",
              "      <th>genre_len</th>\n",
              "      <th>first_lead_actor</th>\n",
              "      <th>second_lead_actor</th>\n",
              "      <th>main_director</th>\n",
              "      <th>hitFlop</th>\n",
              "    </tr>\n",
              "  </thead>\n",
              "  <tbody>\n",
              "    <tr>\n",
              "      <th>0</th>\n",
              "      <td>1</td>\n",
              "      <td>151</td>\n",
              "      <td>25</td>\n",
              "      <td>158</td>\n",
              "      <td>2</td>\n",
              "    </tr>\n",
              "    <tr>\n",
              "      <th>1</th>\n",
              "      <td>3</td>\n",
              "      <td>2</td>\n",
              "      <td>174</td>\n",
              "      <td>115</td>\n",
              "      <td>6</td>\n",
              "    </tr>\n",
              "    <tr>\n",
              "      <th>2</th>\n",
              "      <td>2</td>\n",
              "      <td>27</td>\n",
              "      <td>570</td>\n",
              "      <td>390</td>\n",
              "      <td>1</td>\n",
              "    </tr>\n",
              "    <tr>\n",
              "      <th>3</th>\n",
              "      <td>2</td>\n",
              "      <td>420</td>\n",
              "      <td>271</td>\n",
              "      <td>262</td>\n",
              "      <td>4</td>\n",
              "    </tr>\n",
              "    <tr>\n",
              "      <th>4</th>\n",
              "      <td>3</td>\n",
              "      <td>420</td>\n",
              "      <td>225</td>\n",
              "      <td>593</td>\n",
              "      <td>1</td>\n",
              "    </tr>\n",
              "  </tbody>\n",
              "</table>\n",
              "</div>\n",
              "      <button class=\"colab-df-convert\" onclick=\"convertToInteractive('df-dc4bc0c3-669b-4d0a-a818-3fc621b632c0')\"\n",
              "              title=\"Convert this dataframe to an interactive table.\"\n",
              "              style=\"display:none;\">\n",
              "        \n",
              "  <svg xmlns=\"http://www.w3.org/2000/svg\" height=\"24px\"viewBox=\"0 0 24 24\"\n",
              "       width=\"24px\">\n",
              "    <path d=\"M0 0h24v24H0V0z\" fill=\"none\"/>\n",
              "    <path d=\"M18.56 5.44l.94 2.06.94-2.06 2.06-.94-2.06-.94-.94-2.06-.94 2.06-2.06.94zm-11 1L8.5 8.5l.94-2.06 2.06-.94-2.06-.94L8.5 2.5l-.94 2.06-2.06.94zm10 10l.94 2.06.94-2.06 2.06-.94-2.06-.94-.94-2.06-.94 2.06-2.06.94z\"/><path d=\"M17.41 7.96l-1.37-1.37c-.4-.4-.92-.59-1.43-.59-.52 0-1.04.2-1.43.59L10.3 9.45l-7.72 7.72c-.78.78-.78 2.05 0 2.83L4 21.41c.39.39.9.59 1.41.59.51 0 1.02-.2 1.41-.59l7.78-7.78 2.81-2.81c.8-.78.8-2.07 0-2.86zM5.41 20L4 18.59l7.72-7.72 1.47 1.35L5.41 20z\"/>\n",
              "  </svg>\n",
              "      </button>\n",
              "      \n",
              "  <style>\n",
              "    .colab-df-container {\n",
              "      display:flex;\n",
              "      flex-wrap:wrap;\n",
              "      gap: 12px;\n",
              "    }\n",
              "\n",
              "    .colab-df-convert {\n",
              "      background-color: #E8F0FE;\n",
              "      border: none;\n",
              "      border-radius: 50%;\n",
              "      cursor: pointer;\n",
              "      display: none;\n",
              "      fill: #1967D2;\n",
              "      height: 32px;\n",
              "      padding: 0 0 0 0;\n",
              "      width: 32px;\n",
              "    }\n",
              "\n",
              "    .colab-df-convert:hover {\n",
              "      background-color: #E2EBFA;\n",
              "      box-shadow: 0px 1px 2px rgba(60, 64, 67, 0.3), 0px 1px 3px 1px rgba(60, 64, 67, 0.15);\n",
              "      fill: #174EA6;\n",
              "    }\n",
              "\n",
              "    [theme=dark] .colab-df-convert {\n",
              "      background-color: #3B4455;\n",
              "      fill: #D2E3FC;\n",
              "    }\n",
              "\n",
              "    [theme=dark] .colab-df-convert:hover {\n",
              "      background-color: #434B5C;\n",
              "      box-shadow: 0px 1px 3px 1px rgba(0, 0, 0, 0.15);\n",
              "      filter: drop-shadow(0px 1px 2px rgba(0, 0, 0, 0.3));\n",
              "      fill: #FFFFFF;\n",
              "    }\n",
              "  </style>\n",
              "\n",
              "      <script>\n",
              "        const buttonEl =\n",
              "          document.querySelector('#df-dc4bc0c3-669b-4d0a-a818-3fc621b632c0 button.colab-df-convert');\n",
              "        buttonEl.style.display =\n",
              "          google.colab.kernel.accessAllowed ? 'block' : 'none';\n",
              "\n",
              "        async function convertToInteractive(key) {\n",
              "          const element = document.querySelector('#df-dc4bc0c3-669b-4d0a-a818-3fc621b632c0');\n",
              "          const dataTable =\n",
              "            await google.colab.kernel.invokeFunction('convertToInteractive',\n",
              "                                                     [key], {});\n",
              "          if (!dataTable) return;\n",
              "\n",
              "          const docLinkHtml = 'Like what you see? Visit the ' +\n",
              "            '<a target=\"_blank\" href=https://colab.research.google.com/notebooks/data_table.ipynb>data table notebook</a>'\n",
              "            + ' to learn more about interactive tables.';\n",
              "          element.innerHTML = '';\n",
              "          dataTable['output_type'] = 'display_data';\n",
              "          await google.colab.output.renderOutput(dataTable, element);\n",
              "          const docLink = document.createElement('div');\n",
              "          docLink.innerHTML = docLinkHtml;\n",
              "          element.appendChild(docLink);\n",
              "        }\n",
              "      </script>\n",
              "    </div>\n",
              "  </div>\n",
              "  "
            ],
            "text/plain": [
              "   genre_len  first_lead_actor  second_lead_actor  main_director  hitFlop\n",
              "0          1               151                 25            158        2\n",
              "1          3                 2                174            115        6\n",
              "2          2                27                570            390        1\n",
              "3          2               420                271            262        4\n",
              "4          3               420                225            593        1"
            ]
          },
          "metadata": {},
          "execution_count": 28
        }
      ]
    },
    {
      "cell_type": "markdown",
      "source": [
        "I have taken three columns i.e. genre actor, director as they play important role in the success of a movie.\n",
        "In genre there 216 unique values which i am transforming it into number of Genre a movie is having.\n",
        "From Actor column i am taking first and second lead actor as the lead actors. Then i have converted them to numbers using \"cat.codes\".\n",
        "Extarcted the first main director and converted into number"
      ],
      "metadata": {
        "id": "IUbB6qC7dyYT"
      }
    },
    {
      "cell_type": "markdown",
      "source": [
        "# Data Reduction"
      ],
      "metadata": {
        "id": "NlwoyqXOkFpF"
      }
    },
    {
      "cell_type": "code",
      "source": [
        "movie['hitFlop'].describe()"
      ],
      "metadata": {
        "colab": {
          "base_uri": "https://localhost:8080/"
        },
        "id": "lvbP4vSEh8f2",
        "outputId": "a39fd388-c44b-4add-dfba-5f6aee0d82bd"
      },
      "execution_count": 10,
      "outputs": [
        {
          "output_type": "execute_result",
          "data": {
            "text/plain": [
              "count    1284.000000\n",
              "mean        2.144081\n",
              "std         1.812820\n",
              "min         1.000000\n",
              "25%         1.000000\n",
              "50%         1.000000\n",
              "75%         2.000000\n",
              "max         9.000000\n",
              "Name: hitFlop, dtype: float64"
            ]
          },
          "metadata": {},
          "execution_count": 10
        }
      ]
    },
    {
      "cell_type": "code",
      "source": [
        "bins = (np.linspace(movie.hitFlop.min(),movie.hitFlop.max(),4,dtype=int))\n",
        "bins"
      ],
      "metadata": {
        "colab": {
          "base_uri": "https://localhost:8080/"
        },
        "id": "NA1J7rJSjc2A",
        "outputId": "5abc2382-a31c-4630-b902-be430880b433"
      },
      "execution_count": 37,
      "outputs": [
        {
          "output_type": "execute_result",
          "data": {
            "text/plain": [
              "array([1, 3, 6, 9])"
            ]
          },
          "metadata": {},
          "execution_count": 37
        }
      ]
    },
    {
      "cell_type": "code",
      "source": [
        "labels = ['flop', 'average', 'hit']\n",
        "movie['bins'] = pd.cut(movie['hitFlop'], bins=bins,labels=labels,include_lowest=True)\n",
        "movie.head()"
      ],
      "metadata": {
        "colab": {
          "base_uri": "https://localhost:8080/",
          "height": 774
        },
        "id": "_-6Gw2tejc0i",
        "outputId": "2a224aeb-7c9f-45ac-f58e-0e215523f6b2"
      },
      "execution_count": 38,
      "outputs": [
        {
          "output_type": "stream",
          "name": "stdout",
          "text": [
            "Warning: Total number of columns (16) exceeds max_columns (15). Falling back to pandas display.\n"
          ]
        },
        {
          "output_type": "execute_result",
          "data": {
            "text/html": [
              "\n",
              "  <div id=\"df-da0f1496-9ea0-4cb4-8ac2-b447a516463c\">\n",
              "    <div class=\"colab-df-container\">\n",
              "      <div>\n",
              "<style scoped>\n",
              "    .dataframe tbody tr th:only-of-type {\n",
              "        vertical-align: middle;\n",
              "    }\n",
              "\n",
              "    .dataframe tbody tr th {\n",
              "        vertical-align: top;\n",
              "    }\n",
              "\n",
              "    .dataframe thead th {\n",
              "        text-align: right;\n",
              "    }\n",
              "</style>\n",
              "<table border=\"1\" class=\"dataframe\">\n",
              "  <thead>\n",
              "    <tr style=\"text-align: right;\">\n",
              "      <th></th>\n",
              "      <th>imdbId</th>\n",
              "      <th>title</th>\n",
              "      <th>releaseYear</th>\n",
              "      <th>releaseDate</th>\n",
              "      <th>genre</th>\n",
              "      <th>writers</th>\n",
              "      <th>actors</th>\n",
              "      <th>directors</th>\n",
              "      <th>sequel</th>\n",
              "      <th>hitFlop</th>\n",
              "      <th>writers_len</th>\n",
              "      <th>genre_len</th>\n",
              "      <th>first_lead_actor</th>\n",
              "      <th>second_lead_actor</th>\n",
              "      <th>main_director</th>\n",
              "      <th>bins</th>\n",
              "    </tr>\n",
              "  </thead>\n",
              "  <tbody>\n",
              "    <tr>\n",
              "      <th>0</th>\n",
              "      <td>tt0118578</td>\n",
              "      <td>Albela</td>\n",
              "      <td>2001</td>\n",
              "      <td>20 Apr 2001</td>\n",
              "      <td>Romance</td>\n",
              "      <td>Honey Irani (screenplay) | Honey Irani (story)...</td>\n",
              "      <td>Govinda | Aishwarya Rai Bachchan | Jackie Shro...</td>\n",
              "      <td>Deepak Sareen</td>\n",
              "      <td>0.0</td>\n",
              "      <td>2</td>\n",
              "      <td>3</td>\n",
              "      <td>1</td>\n",
              "      <td>Govinda</td>\n",
              "      <td>Aishwarya Rai Bachchan</td>\n",
              "      <td>Deepak Sareen</td>\n",
              "      <td>flop</td>\n",
              "    </tr>\n",
              "    <tr>\n",
              "      <th>1</th>\n",
              "      <td>tt0169102</td>\n",
              "      <td>Lagaan: Once Upon a Time in India</td>\n",
              "      <td>2001</td>\n",
              "      <td>08 May 2002</td>\n",
              "      <td>Adventure | Drama | Musical</td>\n",
              "      <td>Ashutosh Gowariker (story) | Ashutosh Gowarike...</td>\n",
              "      <td>Aamir Khan | Gracy Singh | Rachel Shelley | Pa...</td>\n",
              "      <td>Ashutosh Gowariker</td>\n",
              "      <td>0.0</td>\n",
              "      <td>6</td>\n",
              "      <td>5</td>\n",
              "      <td>3</td>\n",
              "      <td>Aamir Khan</td>\n",
              "      <td>Gracy Singh</td>\n",
              "      <td>Ashutosh Gowariker</td>\n",
              "      <td>average</td>\n",
              "    </tr>\n",
              "    <tr>\n",
              "      <th>2</th>\n",
              "      <td>tt0187279</td>\n",
              "      <td>Meri Biwi Ka Jawab Nahin</td>\n",
              "      <td>2004</td>\n",
              "      <td>02 Jul 2004</td>\n",
              "      <td>Action | Comedy</td>\n",
              "      <td>Unknown</td>\n",
              "      <td>Akshay Kumar | Sridevi | Gulshan Grover | Laxm...</td>\n",
              "      <td>Pankaj Parashar | S.M. Iqbal</td>\n",
              "      <td>0.0</td>\n",
              "      <td>1</td>\n",
              "      <td>1</td>\n",
              "      <td>2</td>\n",
              "      <td>Akshay Kumar</td>\n",
              "      <td>Sridevi</td>\n",
              "      <td>Pankaj Parashar</td>\n",
              "      <td>flop</td>\n",
              "    </tr>\n",
              "    <tr>\n",
              "      <th>3</th>\n",
              "      <td>tt0222024</td>\n",
              "      <td>Hum Tumhare Hain Sanam</td>\n",
              "      <td>2002</td>\n",
              "      <td>24 May 2002</td>\n",
              "      <td>Drama | Romance</td>\n",
              "      <td>K.S. Adiyaman | Arun Kumar (assistant dialogue...</td>\n",
              "      <td>Shah Rukh Khan | Madhuri Dixit | Salman Khan |...</td>\n",
              "      <td>K.S. Adiyaman</td>\n",
              "      <td>0.0</td>\n",
              "      <td>4</td>\n",
              "      <td>4</td>\n",
              "      <td>2</td>\n",
              "      <td>Shah Rukh Khan</td>\n",
              "      <td>Madhuri Dixit</td>\n",
              "      <td>K.S. Adiyaman</td>\n",
              "      <td>average</td>\n",
              "    </tr>\n",
              "    <tr>\n",
              "      <th>4</th>\n",
              "      <td>tt0227194</td>\n",
              "      <td>One 2 Ka 4</td>\n",
              "      <td>2001</td>\n",
              "      <td>30 Mar 2001</td>\n",
              "      <td>Action | Comedy | Drama</td>\n",
              "      <td>Sanjay Chhel | Raaj Kumar Dahima (screenplay) ...</td>\n",
              "      <td>Shah Rukh Khan | Juhi Chawla | Jackie Shroff |...</td>\n",
              "      <td>Shashilal K. Nair</td>\n",
              "      <td>0.0</td>\n",
              "      <td>1</td>\n",
              "      <td>3</td>\n",
              "      <td>3</td>\n",
              "      <td>Shah Rukh Khan</td>\n",
              "      <td>Juhi Chawla</td>\n",
              "      <td>Shashilal K. Nair</td>\n",
              "      <td>flop</td>\n",
              "    </tr>\n",
              "  </tbody>\n",
              "</table>\n",
              "</div>\n",
              "      <button class=\"colab-df-convert\" onclick=\"convertToInteractive('df-da0f1496-9ea0-4cb4-8ac2-b447a516463c')\"\n",
              "              title=\"Convert this dataframe to an interactive table.\"\n",
              "              style=\"display:none;\">\n",
              "        \n",
              "  <svg xmlns=\"http://www.w3.org/2000/svg\" height=\"24px\"viewBox=\"0 0 24 24\"\n",
              "       width=\"24px\">\n",
              "    <path d=\"M0 0h24v24H0V0z\" fill=\"none\"/>\n",
              "    <path d=\"M18.56 5.44l.94 2.06.94-2.06 2.06-.94-2.06-.94-.94-2.06-.94 2.06-2.06.94zm-11 1L8.5 8.5l.94-2.06 2.06-.94-2.06-.94L8.5 2.5l-.94 2.06-2.06.94zm10 10l.94 2.06.94-2.06 2.06-.94-2.06-.94-.94-2.06-.94 2.06-2.06.94z\"/><path d=\"M17.41 7.96l-1.37-1.37c-.4-.4-.92-.59-1.43-.59-.52 0-1.04.2-1.43.59L10.3 9.45l-7.72 7.72c-.78.78-.78 2.05 0 2.83L4 21.41c.39.39.9.59 1.41.59.51 0 1.02-.2 1.41-.59l7.78-7.78 2.81-2.81c.8-.78.8-2.07 0-2.86zM5.41 20L4 18.59l7.72-7.72 1.47 1.35L5.41 20z\"/>\n",
              "  </svg>\n",
              "      </button>\n",
              "      \n",
              "  <style>\n",
              "    .colab-df-container {\n",
              "      display:flex;\n",
              "      flex-wrap:wrap;\n",
              "      gap: 12px;\n",
              "    }\n",
              "\n",
              "    .colab-df-convert {\n",
              "      background-color: #E8F0FE;\n",
              "      border: none;\n",
              "      border-radius: 50%;\n",
              "      cursor: pointer;\n",
              "      display: none;\n",
              "      fill: #1967D2;\n",
              "      height: 32px;\n",
              "      padding: 0 0 0 0;\n",
              "      width: 32px;\n",
              "    }\n",
              "\n",
              "    .colab-df-convert:hover {\n",
              "      background-color: #E2EBFA;\n",
              "      box-shadow: 0px 1px 2px rgba(60, 64, 67, 0.3), 0px 1px 3px 1px rgba(60, 64, 67, 0.15);\n",
              "      fill: #174EA6;\n",
              "    }\n",
              "\n",
              "    [theme=dark] .colab-df-convert {\n",
              "      background-color: #3B4455;\n",
              "      fill: #D2E3FC;\n",
              "    }\n",
              "\n",
              "    [theme=dark] .colab-df-convert:hover {\n",
              "      background-color: #434B5C;\n",
              "      box-shadow: 0px 1px 3px 1px rgba(0, 0, 0, 0.15);\n",
              "      filter: drop-shadow(0px 1px 2px rgba(0, 0, 0, 0.3));\n",
              "      fill: #FFFFFF;\n",
              "    }\n",
              "  </style>\n",
              "\n",
              "      <script>\n",
              "        const buttonEl =\n",
              "          document.querySelector('#df-da0f1496-9ea0-4cb4-8ac2-b447a516463c button.colab-df-convert');\n",
              "        buttonEl.style.display =\n",
              "          google.colab.kernel.accessAllowed ? 'block' : 'none';\n",
              "\n",
              "        async function convertToInteractive(key) {\n",
              "          const element = document.querySelector('#df-da0f1496-9ea0-4cb4-8ac2-b447a516463c');\n",
              "          const dataTable =\n",
              "            await google.colab.kernel.invokeFunction('convertToInteractive',\n",
              "                                                     [key], {});\n",
              "          if (!dataTable) return;\n",
              "\n",
              "          const docLinkHtml = 'Like what you see? Visit the ' +\n",
              "            '<a target=\"_blank\" href=https://colab.research.google.com/notebooks/data_table.ipynb>data table notebook</a>'\n",
              "            + ' to learn more about interactive tables.';\n",
              "          element.innerHTML = '';\n",
              "          dataTable['output_type'] = 'display_data';\n",
              "          await google.colab.output.renderOutput(dataTable, element);\n",
              "          const docLink = document.createElement('div');\n",
              "          docLink.innerHTML = docLinkHtml;\n",
              "          element.appendChild(docLink);\n",
              "        }\n",
              "      </script>\n",
              "    </div>\n",
              "  </div>\n",
              "  "
            ],
            "text/plain": [
              "      imdbId                              title  ...       main_director     bins\n",
              "0  tt0118578                             Albela  ...       Deepak Sareen     flop\n",
              "1  tt0169102  Lagaan: Once Upon a Time in India  ...  Ashutosh Gowariker  average\n",
              "2  tt0187279           Meri Biwi Ka Jawab Nahin  ...    Pankaj Parashar      flop\n",
              "3  tt0222024             Hum Tumhare Hain Sanam  ...       K.S. Adiyaman  average\n",
              "4  tt0227194                         One 2 Ka 4  ...   Shashilal K. Nair     flop\n",
              "\n",
              "[5 rows x 16 columns]"
            ]
          },
          "metadata": {},
          "execution_count": 38
        }
      ]
    },
    {
      "cell_type": "code",
      "source": [
        "movie.groupby(['bins']).count()"
      ],
      "metadata": {
        "colab": {
          "base_uri": "https://localhost:8080/",
          "height": 154
        },
        "id": "vFca4W5Djcw4",
        "outputId": "de480202-1991-463c-87cb-9492d09c863e"
      },
      "execution_count": 13,
      "outputs": [
        {
          "output_type": "execute_result",
          "data": {
            "application/vnd.google.colaboratory.module+javascript": "\n      import \"https://ssl.gstatic.com/colaboratory/data_table/81f25a011006ed3d/data_table.js\";\n\n      window.createDataTable({\n        data: [[\"flop\",\n{\n            'v': 1041,\n            'f': \"1041\",\n        },\n{\n            'v': 1041,\n            'f': \"1041\",\n        },\n{\n            'v': 1041,\n            'f': \"1041\",\n        },\n{\n            'v': 1041,\n            'f': \"1041\",\n        },\n{\n            'v': 1041,\n            'f': \"1041\",\n        },\n{\n            'v': 1041,\n            'f': \"1041\",\n        },\n{\n            'v': 1041,\n            'f': \"1041\",\n        },\n{\n            'v': 1041,\n            'f': \"1041\",\n        },\n{\n            'v': 1041,\n            'f': \"1041\",\n        },\n{\n            'v': 1041,\n            'f': \"1041\",\n        },\n{\n            'v': 1041,\n            'f': \"1041\",\n        },\n{\n            'v': 1041,\n            'f': \"1041\",\n        },\n{\n            'v': 1041,\n            'f': \"1041\",\n        },\n{\n            'v': 1041,\n            'f': \"1041\",\n        },\n{\n            'v': 1041,\n            'f': \"1041\",\n        }],\n [\"average\",\n{\n            'v': 190,\n            'f': \"190\",\n        },\n{\n            'v': 190,\n            'f': \"190\",\n        },\n{\n            'v': 190,\n            'f': \"190\",\n        },\n{\n            'v': 190,\n            'f': \"190\",\n        },\n{\n            'v': 190,\n            'f': \"190\",\n        },\n{\n            'v': 190,\n            'f': \"190\",\n        },\n{\n            'v': 190,\n            'f': \"190\",\n        },\n{\n            'v': 190,\n            'f': \"190\",\n        },\n{\n            'v': 190,\n            'f': \"190\",\n        },\n{\n            'v': 190,\n            'f': \"190\",\n        },\n{\n            'v': 190,\n            'f': \"190\",\n        },\n{\n            'v': 190,\n            'f': \"190\",\n        },\n{\n            'v': 190,\n            'f': \"190\",\n        },\n{\n            'v': 190,\n            'f': \"190\",\n        },\n{\n            'v': 190,\n            'f': \"190\",\n        }],\n [\"hit\",\n{\n            'v': 53,\n            'f': \"53\",\n        },\n{\n            'v': 53,\n            'f': \"53\",\n        },\n{\n            'v': 53,\n            'f': \"53\",\n        },\n{\n            'v': 53,\n            'f': \"53\",\n        },\n{\n            'v': 53,\n            'f': \"53\",\n        },\n{\n            'v': 53,\n            'f': \"53\",\n        },\n{\n            'v': 53,\n            'f': \"53\",\n        },\n{\n            'v': 53,\n            'f': \"53\",\n        },\n{\n            'v': 53,\n            'f': \"53\",\n        },\n{\n            'v': 53,\n            'f': \"53\",\n        },\n{\n            'v': 53,\n            'f': \"53\",\n        },\n{\n            'v': 53,\n            'f': \"53\",\n        },\n{\n            'v': 53,\n            'f': \"53\",\n        },\n{\n            'v': 53,\n            'f': \"53\",\n        },\n{\n            'v': 53,\n            'f': \"53\",\n        }]],\n        columns: [[\"string\", \"bins\"], [\"number\", \"imdbId\"], [\"number\", \"title\"], [\"number\", \"releaseYear\"], [\"number\", \"releaseDate\"], [\"number\", \"genre\"], [\"number\", \"writers\"], [\"number\", \"actors\"], [\"number\", \"directors\"], [\"number\", \"sequel\"], [\"number\", \"hitFlop\"], [\"number\", \"writers_len\"], [\"number\", \"genre_len\"], [\"number\", \"first_lead_actor\"], [\"number\", \"second_lead_actor\"], [\"number\", \"main_director\"]],\n        columnOptions: [{\"width\": \"1px\", \"className\": \"index_column\"}],\n        rowsPerPage: 25,\n        helpUrl: \"https://colab.research.google.com/notebooks/data_table.ipynb\",\n        suppressOutputScrolling: true,\n        minimumWidth: undefined,\n      });\n    ",
            "text/html": [
              "\n",
              "  <div id=\"df-c1b2bf4a-3a75-4375-b69e-64c5779e2f09\">\n",
              "    <div class=\"colab-df-container\">\n",
              "      <div>\n",
              "<style scoped>\n",
              "    .dataframe tbody tr th:only-of-type {\n",
              "        vertical-align: middle;\n",
              "    }\n",
              "\n",
              "    .dataframe tbody tr th {\n",
              "        vertical-align: top;\n",
              "    }\n",
              "\n",
              "    .dataframe thead th {\n",
              "        text-align: right;\n",
              "    }\n",
              "</style>\n",
              "<table border=\"1\" class=\"dataframe\">\n",
              "  <thead>\n",
              "    <tr style=\"text-align: right;\">\n",
              "      <th></th>\n",
              "      <th>imdbId</th>\n",
              "      <th>title</th>\n",
              "      <th>releaseYear</th>\n",
              "      <th>releaseDate</th>\n",
              "      <th>genre</th>\n",
              "      <th>writers</th>\n",
              "      <th>actors</th>\n",
              "      <th>directors</th>\n",
              "      <th>sequel</th>\n",
              "      <th>hitFlop</th>\n",
              "      <th>writers_len</th>\n",
              "      <th>genre_len</th>\n",
              "      <th>first_lead_actor</th>\n",
              "      <th>second_lead_actor</th>\n",
              "      <th>main_director</th>\n",
              "    </tr>\n",
              "    <tr>\n",
              "      <th>bins</th>\n",
              "      <th></th>\n",
              "      <th></th>\n",
              "      <th></th>\n",
              "      <th></th>\n",
              "      <th></th>\n",
              "      <th></th>\n",
              "      <th></th>\n",
              "      <th></th>\n",
              "      <th></th>\n",
              "      <th></th>\n",
              "      <th></th>\n",
              "      <th></th>\n",
              "      <th></th>\n",
              "      <th></th>\n",
              "      <th></th>\n",
              "    </tr>\n",
              "  </thead>\n",
              "  <tbody>\n",
              "    <tr>\n",
              "      <th>flop</th>\n",
              "      <td>1041</td>\n",
              "      <td>1041</td>\n",
              "      <td>1041</td>\n",
              "      <td>1041</td>\n",
              "      <td>1041</td>\n",
              "      <td>1041</td>\n",
              "      <td>1041</td>\n",
              "      <td>1041</td>\n",
              "      <td>1041</td>\n",
              "      <td>1041</td>\n",
              "      <td>1041</td>\n",
              "      <td>1041</td>\n",
              "      <td>1041</td>\n",
              "      <td>1041</td>\n",
              "      <td>1041</td>\n",
              "    </tr>\n",
              "    <tr>\n",
              "      <th>average</th>\n",
              "      <td>190</td>\n",
              "      <td>190</td>\n",
              "      <td>190</td>\n",
              "      <td>190</td>\n",
              "      <td>190</td>\n",
              "      <td>190</td>\n",
              "      <td>190</td>\n",
              "      <td>190</td>\n",
              "      <td>190</td>\n",
              "      <td>190</td>\n",
              "      <td>190</td>\n",
              "      <td>190</td>\n",
              "      <td>190</td>\n",
              "      <td>190</td>\n",
              "      <td>190</td>\n",
              "    </tr>\n",
              "    <tr>\n",
              "      <th>hit</th>\n",
              "      <td>53</td>\n",
              "      <td>53</td>\n",
              "      <td>53</td>\n",
              "      <td>53</td>\n",
              "      <td>53</td>\n",
              "      <td>53</td>\n",
              "      <td>53</td>\n",
              "      <td>53</td>\n",
              "      <td>53</td>\n",
              "      <td>53</td>\n",
              "      <td>53</td>\n",
              "      <td>53</td>\n",
              "      <td>53</td>\n",
              "      <td>53</td>\n",
              "      <td>53</td>\n",
              "    </tr>\n",
              "  </tbody>\n",
              "</table>\n",
              "</div>\n",
              "      <button class=\"colab-df-convert\" onclick=\"convertToInteractive('df-c1b2bf4a-3a75-4375-b69e-64c5779e2f09')\"\n",
              "              title=\"Convert this dataframe to an interactive table.\"\n",
              "              style=\"display:none;\">\n",
              "        \n",
              "  <svg xmlns=\"http://www.w3.org/2000/svg\" height=\"24px\"viewBox=\"0 0 24 24\"\n",
              "       width=\"24px\">\n",
              "    <path d=\"M0 0h24v24H0V0z\" fill=\"none\"/>\n",
              "    <path d=\"M18.56 5.44l.94 2.06.94-2.06 2.06-.94-2.06-.94-.94-2.06-.94 2.06-2.06.94zm-11 1L8.5 8.5l.94-2.06 2.06-.94-2.06-.94L8.5 2.5l-.94 2.06-2.06.94zm10 10l.94 2.06.94-2.06 2.06-.94-2.06-.94-.94-2.06-.94 2.06-2.06.94z\"/><path d=\"M17.41 7.96l-1.37-1.37c-.4-.4-.92-.59-1.43-.59-.52 0-1.04.2-1.43.59L10.3 9.45l-7.72 7.72c-.78.78-.78 2.05 0 2.83L4 21.41c.39.39.9.59 1.41.59.51 0 1.02-.2 1.41-.59l7.78-7.78 2.81-2.81c.8-.78.8-2.07 0-2.86zM5.41 20L4 18.59l7.72-7.72 1.47 1.35L5.41 20z\"/>\n",
              "  </svg>\n",
              "      </button>\n",
              "      \n",
              "  <style>\n",
              "    .colab-df-container {\n",
              "      display:flex;\n",
              "      flex-wrap:wrap;\n",
              "      gap: 12px;\n",
              "    }\n",
              "\n",
              "    .colab-df-convert {\n",
              "      background-color: #E8F0FE;\n",
              "      border: none;\n",
              "      border-radius: 50%;\n",
              "      cursor: pointer;\n",
              "      display: none;\n",
              "      fill: #1967D2;\n",
              "      height: 32px;\n",
              "      padding: 0 0 0 0;\n",
              "      width: 32px;\n",
              "    }\n",
              "\n",
              "    .colab-df-convert:hover {\n",
              "      background-color: #E2EBFA;\n",
              "      box-shadow: 0px 1px 2px rgba(60, 64, 67, 0.3), 0px 1px 3px 1px rgba(60, 64, 67, 0.15);\n",
              "      fill: #174EA6;\n",
              "    }\n",
              "\n",
              "    [theme=dark] .colab-df-convert {\n",
              "      background-color: #3B4455;\n",
              "      fill: #D2E3FC;\n",
              "    }\n",
              "\n",
              "    [theme=dark] .colab-df-convert:hover {\n",
              "      background-color: #434B5C;\n",
              "      box-shadow: 0px 1px 3px 1px rgba(0, 0, 0, 0.15);\n",
              "      filter: drop-shadow(0px 1px 2px rgba(0, 0, 0, 0.3));\n",
              "      fill: #FFFFFF;\n",
              "    }\n",
              "  </style>\n",
              "\n",
              "      <script>\n",
              "        const buttonEl =\n",
              "          document.querySelector('#df-c1b2bf4a-3a75-4375-b69e-64c5779e2f09 button.colab-df-convert');\n",
              "        buttonEl.style.display =\n",
              "          google.colab.kernel.accessAllowed ? 'block' : 'none';\n",
              "\n",
              "        async function convertToInteractive(key) {\n",
              "          const element = document.querySelector('#df-c1b2bf4a-3a75-4375-b69e-64c5779e2f09');\n",
              "          const dataTable =\n",
              "            await google.colab.kernel.invokeFunction('convertToInteractive',\n",
              "                                                     [key], {});\n",
              "          if (!dataTable) return;\n",
              "\n",
              "          const docLinkHtml = 'Like what you see? Visit the ' +\n",
              "            '<a target=\"_blank\" href=https://colab.research.google.com/notebooks/data_table.ipynb>data table notebook</a>'\n",
              "            + ' to learn more about interactive tables.';\n",
              "          element.innerHTML = '';\n",
              "          dataTable['output_type'] = 'display_data';\n",
              "          await google.colab.output.renderOutput(dataTable, element);\n",
              "          const docLink = document.createElement('div');\n",
              "          docLink.innerHTML = docLinkHtml;\n",
              "          element.appendChild(docLink);\n",
              "        }\n",
              "      </script>\n",
              "    </div>\n",
              "  </div>\n",
              "  "
            ],
            "text/plain": [
              "         imdbId  title  ...  second_lead_actor  main_director\n",
              "bins                    ...                                  \n",
              "flop       1041   1041  ...               1041           1041\n",
              "average     190    190  ...                190            190\n",
              "hit          53     53  ...                 53             53\n",
              "\n",
              "[3 rows x 15 columns]"
            ]
          },
          "metadata": {},
          "execution_count": 13
        }
      ]
    },
    {
      "cell_type": "code",
      "source": [
        "plt.hist(movie['bins'], bins=3)"
      ],
      "metadata": {
        "colab": {
          "base_uri": "https://localhost:8080/",
          "height": 317
        },
        "id": "76RTPtH6jcva",
        "outputId": "1d4cba73-e36f-4bc7-ae2b-746a4e17a331"
      },
      "execution_count": 14,
      "outputs": [
        {
          "output_type": "execute_result",
          "data": {
            "text/plain": [
              "(array([1041.,  190.,   53.]),\n",
              " array([0.        , 0.66666667, 1.33333333, 2.        ]),\n",
              " <a list of 3 Patch objects>)"
            ]
          },
          "metadata": {},
          "execution_count": 14
        },
        {
          "output_type": "display_data",
          "data": {
            "image/png": "[encoded data removed]",
            "text/plain": [
              "<Figure size 432x288 with 1 Axes>"
            ]
          },
          "metadata": {
            "needs_background": "light"
          }
        }
      ]
    },
    {
      "cell_type": "code",
      "source": [
        "from sklearn import preprocessing\n",
        "min_max_scaler = preprocessing.MinMaxScaler()\n",
        "\n",
        "movie.loc[:,['writers_len','genre_len','first_lead_actor','second_lead_actor','main_director']] = min_max_scaler.fit_transform(movie.loc[:,['writers_len','genre_len','first_lead_actor','second_lead_actor','main_director']])\n",
        "movie.head()"
      ],
      "metadata": {
        "colab": {
          "base_uri": "https://localhost:8080/",
          "height": 774
        },
        "id": "Hi48R5TajcrI",
        "outputId": "2eaf08a9-6ada-4ca5-e58d-0fa790d86a6e"
      },
      "execution_count": 15,
      "outputs": [
        {
          "output_type": "stream",
          "name": "stdout",
          "text": [
            "Warning: Total number of columns (16) exceeds max_columns (15). Falling back to pandas display.\n"
          ]
        },
        {
          "output_type": "execute_result",
          "data": {
            "text/html": [
              "\n",
              "  <div id=\"df-8a492c2e-24a6-4c40-9d16-3705db4fb111\">\n",
              "    <div class=\"colab-df-container\">\n",
              "      <div>\n",
              "<style scoped>\n",
              "    .dataframe tbody tr th:only-of-type {\n",
              "        vertical-align: middle;\n",
              "    }\n",
              "\n",
              "    .dataframe tbody tr th {\n",
              "        vertical-align: top;\n",
              "    }\n",
              "\n",
              "    .dataframe thead th {\n",
              "        text-align: right;\n",
              "    }\n",
              "</style>\n",
              "<table border=\"1\" class=\"dataframe\">\n",
              "  <thead>\n",
              "    <tr style=\"text-align: right;\">\n",
              "      <th></th>\n",
              "      <th>imdbId</th>\n",
              "      <th>title</th>\n",
              "      <th>releaseYear</th>\n",
              "      <th>releaseDate</th>\n",
              "      <th>genre</th>\n",
              "      <th>writers</th>\n",
              "      <th>actors</th>\n",
              "      <th>directors</th>\n",
              "      <th>sequel</th>\n",
              "      <th>hitFlop</th>\n",
              "      <th>writers_len</th>\n",
              "      <th>genre_len</th>\n",
              "      <th>first_lead_actor</th>\n",
              "      <th>second_lead_actor</th>\n",
              "      <th>main_director</th>\n",
              "      <th>bins</th>\n",
              "    </tr>\n",
              "  </thead>\n",
              "  <tbody>\n",
              "    <tr>\n",
              "      <th>0</th>\n",
              "      <td>tt0118578</td>\n",
              "      <td>Albela</td>\n",
              "      <td>2001</td>\n",
              "      <td>20 Apr 2001</td>\n",
              "      <td>Romance</td>\n",
              "      <td>Honey Irani (screenplay) | Honey Irani (story)...</td>\n",
              "      <td>Govinda | Aishwarya Rai Bachchan | Jackie Shro...</td>\n",
              "      <td>Deepak Sareen</td>\n",
              "      <td>0.0</td>\n",
              "      <td>2</td>\n",
              "      <td>0.142857</td>\n",
              "      <td>0.0</td>\n",
              "      <td>0.285985</td>\n",
              "      <td>0.037821</td>\n",
              "      <td>0.216142</td>\n",
              "      <td>flop</td>\n",
              "    </tr>\n",
              "    <tr>\n",
              "      <th>1</th>\n",
              "      <td>tt0169102</td>\n",
              "      <td>Lagaan: Once Upon a Time in India</td>\n",
              "      <td>2001</td>\n",
              "      <td>08 May 2002</td>\n",
              "      <td>Adventure | Drama | Musical</td>\n",
              "      <td>Ashutosh Gowariker (story) | Ashutosh Gowarike...</td>\n",
              "      <td>Aamir Khan | Gracy Singh | Rachel Shelley | Pa...</td>\n",
              "      <td>Ashutosh Gowariker</td>\n",
              "      <td>0.0</td>\n",
              "      <td>6</td>\n",
              "      <td>0.285714</td>\n",
              "      <td>1.0</td>\n",
              "      <td>0.003788</td>\n",
              "      <td>0.263238</td>\n",
              "      <td>0.157319</td>\n",
              "      <td>average</td>\n",
              "    </tr>\n",
              "    <tr>\n",
              "      <th>2</th>\n",
              "      <td>tt0187279</td>\n",
              "      <td>Meri Biwi Ka Jawab Nahin</td>\n",
              "      <td>2004</td>\n",
              "      <td>02 Jul 2004</td>\n",
              "      <td>Action | Comedy</td>\n",
              "      <td>Unknown</td>\n",
              "      <td>Akshay Kumar | Sridevi | Gulshan Grover | Laxm...</td>\n",
              "      <td>Pankaj Parashar | S.M. Iqbal</td>\n",
              "      <td>0.0</td>\n",
              "      <td>1</td>\n",
              "      <td>0.000000</td>\n",
              "      <td>0.5</td>\n",
              "      <td>0.051136</td>\n",
              "      <td>0.862330</td>\n",
              "      <td>0.533516</td>\n",
              "      <td>flop</td>\n",
              "    </tr>\n",
              "    <tr>\n",
              "      <th>3</th>\n",
              "      <td>tt0222024</td>\n",
              "      <td>Hum Tumhare Hain Sanam</td>\n",
              "      <td>2002</td>\n",
              "      <td>24 May 2002</td>\n",
              "      <td>Drama | Romance</td>\n",
              "      <td>K.S. Adiyaman | Arun Kumar (assistant dialogue...</td>\n",
              "      <td>Shah Rukh Khan | Madhuri Dixit | Salman Khan |...</td>\n",
              "      <td>K.S. Adiyaman</td>\n",
              "      <td>0.0</td>\n",
              "      <td>4</td>\n",
              "      <td>0.214286</td>\n",
              "      <td>0.5</td>\n",
              "      <td>0.795455</td>\n",
              "      <td>0.409985</td>\n",
              "      <td>0.358413</td>\n",
              "      <td>average</td>\n",
              "    </tr>\n",
              "    <tr>\n",
              "      <th>4</th>\n",
              "      <td>tt0227194</td>\n",
              "      <td>One 2 Ka 4</td>\n",
              "      <td>2001</td>\n",
              "      <td>30 Mar 2001</td>\n",
              "      <td>Action | Comedy | Drama</td>\n",
              "      <td>Sanjay Chhel | Raaj Kumar Dahima (screenplay) ...</td>\n",
              "      <td>Shah Rukh Khan | Juhi Chawla | Jackie Shroff |...</td>\n",
              "      <td>Shashilal K. Nair</td>\n",
              "      <td>0.0</td>\n",
              "      <td>1</td>\n",
              "      <td>0.142857</td>\n",
              "      <td>1.0</td>\n",
              "      <td>0.795455</td>\n",
              "      <td>0.340393</td>\n",
              "      <td>0.811218</td>\n",
              "      <td>flop</td>\n",
              "    </tr>\n",
              "  </tbody>\n",
              "</table>\n",
              "</div>\n",
              "      <button class=\"colab-df-convert\" onclick=\"convertToInteractive('df-8a492c2e-24a6-4c40-9d16-3705db4fb111')\"\n",
              "              title=\"Convert this dataframe to an interactive table.\"\n",
              "              style=\"display:none;\">\n",
              "        \n",
              "  <svg xmlns=\"http://www.w3.org/2000/svg\" height=\"24px\"viewBox=\"0 0 24 24\"\n",
              "       width=\"24px\">\n",
              "    <path d=\"M0 0h24v24H0V0z\" fill=\"none\"/>\n",
              "    <path d=\"M18.56 5.44l.94 2.06.94-2.06 2.06-.94-2.06-.94-.94-2.06-.94 2.06-2.06.94zm-11 1L8.5 8.5l.94-2.06 2.06-.94-2.06-.94L8.5 2.5l-.94 2.06-2.06.94zm10 10l.94 2.06.94-2.06 2.06-.94-2.06-.94-.94-2.06-.94 2.06-2.06.94z\"/><path d=\"M17.41 7.96l-1.37-1.37c-.4-.4-.92-.59-1.43-.59-.52 0-1.04.2-1.43.59L10.3 9.45l-7.72 7.72c-.78.78-.78 2.05 0 2.83L4 21.41c.39.39.9.59 1.41.59.51 0 1.02-.2 1.41-.59l7.78-7.78 2.81-2.81c.8-.78.8-2.07 0-2.86zM5.41 20L4 18.59l7.72-7.72 1.47 1.35L5.41 20z\"/>\n",
              "  </svg>\n",
              "      </button>\n",
              "      \n",
              "  <style>\n",
              "    .colab-df-container {\n",
              "      display:flex;\n",
              "      flex-wrap:wrap;\n",
              "      gap: 12px;\n",
              "    }\n",
              "\n",
              "    .colab-df-convert {\n",
              "      background-color: #E8F0FE;\n",
              "      border: none;\n",
              "      border-radius: 50%;\n",
              "      cursor: pointer;\n",
              "      display: none;\n",
              "      fill: #1967D2;\n",
              "      height: 32px;\n",
              "      padding: 0 0 0 0;\n",
              "      width: 32px;\n",
              "    }\n",
              "\n",
              "    .colab-df-convert:hover {\n",
              "      background-color: #E2EBFA;\n",
              "      box-shadow: 0px 1px 2px rgba(60, 64, 67, 0.3), 0px 1px 3px 1px rgba(60, 64, 67, 0.15);\n",
              "      fill: #174EA6;\n",
              "    }\n",
              "\n",
              "    [theme=dark] .colab-df-convert {\n",
              "      background-color: #3B4455;\n",
              "      fill: #D2E3FC;\n",
              "    }\n",
              "\n",
              "    [theme=dark] .colab-df-convert:hover {\n",
              "      background-color: #434B5C;\n",
              "      box-shadow: 0px 1px 3px 1px rgba(0, 0, 0, 0.15);\n",
              "      filter: drop-shadow(0px 1px 2px rgba(0, 0, 0, 0.3));\n",
              "      fill: #FFFFFF;\n",
              "    }\n",
              "  </style>\n",
              "\n",
              "      <script>\n",
              "        const buttonEl =\n",
              "          document.querySelector('#df-8a492c2e-24a6-4c40-9d16-3705db4fb111 button.colab-df-convert');\n",
              "        buttonEl.style.display =\n",
              "          google.colab.kernel.accessAllowed ? 'block' : 'none';\n",
              "\n",
              "        async function convertToInteractive(key) {\n",
              "          const element = document.querySelector('#df-8a492c2e-24a6-4c40-9d16-3705db4fb111');\n",
              "          const dataTable =\n",
              "            await google.colab.kernel.invokeFunction('convertToInteractive',\n",
              "                                                     [key], {});\n",
              "          if (!dataTable) return;\n",
              "\n",
              "          const docLinkHtml = 'Like what you see? Visit the ' +\n",
              "            '<a target=\"_blank\" href=https://colab.research.google.com/notebooks/data_table.ipynb>data table notebook</a>'\n",
              "            + ' to learn more about interactive tables.';\n",
              "          element.innerHTML = '';\n",
              "          dataTable['output_type'] = 'display_data';\n",
              "          await google.colab.output.renderOutput(dataTable, element);\n",
              "          const docLink = document.createElement('div');\n",
              "          docLink.innerHTML = docLinkHtml;\n",
              "          element.appendChild(docLink);\n",
              "        }\n",
              "      </script>\n",
              "    </div>\n",
              "  </div>\n",
              "  "
            ],
            "text/plain": [
              "      imdbId                              title  ...  main_director     bins\n",
              "0  tt0118578                             Albela  ...       0.216142     flop\n",
              "1  tt0169102  Lagaan: Once Upon a Time in India  ...       0.157319  average\n",
              "2  tt0187279           Meri Biwi Ka Jawab Nahin  ...       0.533516     flop\n",
              "3  tt0222024             Hum Tumhare Hain Sanam  ...       0.358413  average\n",
              "4  tt0227194                         One 2 Ka 4  ...       0.811218     flop\n",
              "\n",
              "[5 rows x 16 columns]"
            ]
          },
          "metadata": {},
          "execution_count": 15
        }
      ]
    },
    {
      "cell_type": "markdown",
      "source": [
        "Created a bins for hitFlop column to categorise and see what percent of movies are hit,average & flop.\n",
        "Normalizing the numberic columns created during data transformation and data substitution as the all the values will be between 0 to 1. This will help in reducing the time in training the module."
      ],
      "metadata": {
        "id": "g1rZpDk0qG5Z"
      }
    },
    {
      "cell_type": "code",
      "source": [
        "plt.figure(figsize = (12,15))\n",
        "ax = plt.axes()\n",
        "ax.set(facecolor = 'white')\n",
        "ax.grid(False)\n",
        "\n",
        "sns.countplot(data = movie,x = 'genre',order = movie['genre'].value_counts().index[0:10])"
      ],
      "metadata": {
        "colab": {
          "base_uri": "https://localhost:8080/",
          "height": 895
        },
        "id": "vu5cWuznjckS",
        "outputId": "cdff5944-2312-4399-dfa2-d9bd7a636aa0"
      },
      "execution_count": 16,
      "outputs": [
        {
          "output_type": "execute_result",
          "data": {
            "text/plain": [
              "<matplotlib.axes._subplots.AxesSubplot at 0x7f14606e8690>"
            ]
          },
          "metadata": {},
          "execution_count": 16
        },
        {
          "output_type": "display_data",
          "data": {
            "image/png": "[encoded data removed]",
            "text/plain": [
              "<Figure size 864x1080 with 1 Axes>"
            ]
          },
          "metadata": {
            "needs_background": "light"
          }
        }
      ]
    },
    {
      "cell_type": "code",
      "source": [
        "sns.countplot(data = movie,x = 'releaseYear',palette = 'Set2')"
      ],
      "metadata": {
        "colab": {
          "base_uri": "https://localhost:8080/",
          "height": 298
        },
        "id": "F3BBEVxfh8ek",
        "outputId": "23700619-5a11-40e7-f974-c933de54f4d1"
      },
      "execution_count": 17,
      "outputs": [
        {
          "output_type": "execute_result",
          "data": {
            "text/plain": [
              "<matplotlib.axes._subplots.AxesSubplot at 0x7f145f9c39d0>"
            ]
          },
          "metadata": {},
          "execution_count": 17
        },
        {
          "output_type": "display_data",
          "data": {
            "image/png": "[encoded data removed]",
            "text/plain": [
              "<Figure size 432x288 with 1 Axes>"
            ]
          },
          "metadata": {
            "needs_background": "light"
          }
        }
      ]
    },
    {
      "cell_type": "code",
      "source": [
        "hit_movie = movie[movie['hitFlop']>=6]\n",
        "hit_movie.shape"
      ],
      "metadata": {
        "id": "QzS6Amifh8Zy",
        "colab": {
          "base_uri": "https://localhost:8080/"
        },
        "outputId": "d16b42c1-e054-4617-fbd5-1be4f9fd37cd"
      },
      "execution_count": 40,
      "outputs": [
        {
          "output_type": "execute_result",
          "data": {
            "text/plain": [
              "(117, 16)"
            ]
          },
          "metadata": {},
          "execution_count": 40
        }
      ]
    },
    {
      "cell_type": "markdown",
      "source": [
        "From the Exploratory Data analysis we can see for a hit movie there has to be a multiple genre i.e. combinationation of 3 genre. We have also seen that Rajkumar hirani is successful movie director give super hit movie and the combination of Rajkumar Hirani & Amir Khan have procuded a hit movie more than one time."
      ],
      "metadata": {
        "id": "bMQTY2Kasmr1"
      }
    },
    {
      "cell_type": "code",
      "source": [
        ""
      ],
      "metadata": {
        "id": "D8-K5Sy1h8Yi"
      },
      "execution_count": 42,
      "outputs": []
    },
    {
      "cell_type": "code",
      "source": [
        ""
      ],
      "metadata": {
        "id": "KZq04KWSh8Kd"
      },
      "execution_count": null,
      "outputs": []
    }
  ]
}